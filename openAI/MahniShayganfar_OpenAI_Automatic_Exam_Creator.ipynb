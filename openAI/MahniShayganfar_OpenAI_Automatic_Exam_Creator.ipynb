{
 "cells": [
  {
   "cell_type": "code",
   "execution_count": 1,
   "id": "e12b7b7b",
   "metadata": {},
   "outputs": [],
   "source": [
    "import os\n",
    "import openai"
   ]
  },
  {
   "cell_type": "code",
   "execution_count": 2,
   "id": "f17aa39e",
   "metadata": {},
   "outputs": [],
   "source": [
    "openai.api_key = os.getenv('OPENAI_API_KEY')"
   ]
  },
  {
   "cell_type": "code",
   "execution_count": 3,
   "id": "da6f260a",
   "metadata": {},
   "outputs": [],
   "source": [
    "def create_test_prompt(topic, num_questions, num_possible_answers):\n",
    "    \n",
    "    prompt = f\"Create a multiple choice quiz on the topic of {topic} consisting of {num_questions} questions. \"\\\n",
    "             f\"Each question should have {num_possible_answers} options. Only use facts for the options. \"\\\n",
    "             f\"Also include the correct answer for each question using the starting string 'Correct Answer:' \"\n",
    "    return prompt"
   ]
  },
  {
   "cell_type": "code",
   "execution_count": 4,
   "id": "15bdf77f",
   "metadata": {},
   "outputs": [],
   "source": [
    "response = openai.Completion.create(engine='text-davinci-003', \n",
    "                                    prompt=create_test_prompt(\"US History\", 4, 4), \n",
    "                                    max_tokens=256, \n",
    "                                    temperature=0.7)"
   ]
  },
  {
   "cell_type": "code",
   "execution_count": 5,
   "id": "a0af5eb1",
   "metadata": {},
   "outputs": [
    {
     "name": "stdout",
     "output_type": "stream",
     "text": [
      "\n",
      "\n",
      "Q1. When did the American Revolution begin?\n",
      "A. 1786\n",
      "B. 1776\n",
      "C. 1773\n",
      "D. 1755\n",
      "Correct Answer: B. 1776\n",
      "\n",
      "Q2. What year did the US purchase the Louisiana Territory from France?\n",
      "A. 1803\n",
      "B. 1776\n",
      "C. 1819\n",
      "D. 1790\n",
      "Correct Answer: A. 1803\n",
      "\n",
      "Q3. When did the US Constitution become the law of the land?\n",
      "A. 1776\n",
      "B. 1790\n",
      "C. 1787\n",
      "D. 1803\n",
      "Correct Answer: C. 1787\n",
      "\n",
      "Q4. What is the oldest continuously operating public university in the United States?\n",
      "A. Harvard University\n",
      "B. University of Pennsylvania\n",
      "C. University of Virginia\n",
      "D. The College of William & Mary\n",
      "Correct Answer: D. The College of William & Mary\n"
     ]
    }
   ],
   "source": [
    "print(response['choices'][0]['text'])"
   ]
  },
  {
   "cell_type": "code",
   "execution_count": 6,
   "id": "0b231639",
   "metadata": {},
   "outputs": [],
   "source": [
    "response = openai.Completion.create(engine='text-davinci-003', \n",
    "                                    prompt=create_test_prompt(\"Persian Empire History\", 4, 4), \n",
    "                                    max_tokens=256, \n",
    "                                    temperature=0.7)"
   ]
  },
  {
   "cell_type": "code",
   "execution_count": 7,
   "id": "491671a1",
   "metadata": {},
   "outputs": [
    {
     "name": "stdout",
     "output_type": "stream",
     "text": [
      "\n",
      "\n",
      "Question 1: Who founded the Persian Empire?\n",
      "A) Cyrus the Great \n",
      "B) Darius I \n",
      "C) Xerxes I \n",
      "D) Alexander the Great\n",
      "Correct Answer: A) Cyrus the Great\n",
      "\n",
      "Question 2: When was the Persian Empire at its largest?\n",
      "A) 500 BC \n",
      "B) 330 BC \n",
      "C) 500 AD \n",
      "D) 651 AD\n",
      "Correct Answer: D) 651 AD\n",
      "\n",
      "Question 3: What is the name of the language spoken in the Persian Empire?\n",
      "A) Greek \n",
      "B) Latin \n",
      "C) Persian \n",
      "D) Arabic \n",
      "Correct Answer: C) Persian\n",
      "\n",
      "Question 4: What was the primary religion of the Persian Empire?\n",
      "A) Christianity \n",
      "B) Islam \n",
      "C) Judaism \n",
      "D) Zoroastrianism\n",
      "Correct Answer: D) Zoroastrianism\n"
     ]
    }
   ],
   "source": [
    "print(response['choices'][0]['text'])"
   ]
  },
  {
   "cell_type": "code",
   "execution_count": 8,
   "id": "e89280c9",
   "metadata": {},
   "outputs": [],
   "source": [
    "def create_student_view(test, num_questions):\n",
    "    student_view = {1: \"\"}\n",
    "    question_number = 1\n",
    "    for line in test.split('\\n'):\n",
    "        if not line.startswith(\"Correct Answer:\"):\n",
    "            student_view[question_number] += line+'\\n'\n",
    "        else:\n",
    "            if question_number < num_questions:\n",
    "                question_number += 1\n",
    "                student_view[question_number] = ''\n",
    "    return student_view"
   ]
  },
  {
   "cell_type": "code",
   "execution_count": 9,
   "id": "141bf968",
   "metadata": {},
   "outputs": [],
   "source": [
    "result = create_student_view(response['choices'][0]['text'], 4)"
   ]
  },
  {
   "cell_type": "code",
   "execution_count": 10,
   "id": "ee55d009",
   "metadata": {},
   "outputs": [
    {
     "name": "stdout",
     "output_type": "stream",
     "text": [
      "\n",
      "\n",
      "Question 1: Who founded the Persian Empire?\n",
      "A) Cyrus the Great \n",
      "B) Darius I \n",
      "C) Xerxes I \n",
      "D) Alexander the Great\n",
      "\n",
      "\n",
      "Question 2: When was the Persian Empire at its largest?\n",
      "A) 500 BC \n",
      "B) 330 BC \n",
      "C) 500 AD \n",
      "D) 651 AD\n",
      "\n",
      "\n",
      "Question 3: What is the name of the language spoken in the Persian Empire?\n",
      "A) Greek \n",
      "B) Latin \n",
      "C) Persian \n",
      "D) Arabic \n",
      "\n",
      "\n",
      "Question 4: What was the primary religion of the Persian Empire?\n",
      "A) Christianity \n",
      "B) Islam \n",
      "C) Judaism \n",
      "D) Zoroastrianism\n",
      "\n"
     ]
    }
   ],
   "source": [
    "for key in result:\n",
    "    print(result[key])"
   ]
  },
  {
   "cell_type": "code",
   "execution_count": 11,
   "id": "f1efb295",
   "metadata": {},
   "outputs": [],
   "source": [
    "def extract_answer(test, num_questions):\n",
    "    answers = {1: \"\"}\n",
    "    question_number = 1\n",
    "    for line in test.split('\\n'):\n",
    "        if line.startswith(\"Correct Answer:\"):\n",
    "            answers[question_number] += line+'\\n'\n",
    "            \n",
    "            if question_number < num_questions:\n",
    "                question_number += 1\n",
    "                answers[question_number] = ''\n",
    "    return answers"
   ]
  },
  {
   "cell_type": "code",
   "execution_count": 12,
   "id": "ef670000",
   "metadata": {},
   "outputs": [
    {
     "data": {
      "text/plain": [
       "{1: 'Correct Answer: A) Cyrus the Great\\n',\n",
       " 2: 'Correct Answer: D) 651 AD\\n',\n",
       " 3: 'Correct Answer: C) Persian\\n',\n",
       " 4: 'Correct Answer: D) Zoroastrianism\\n'}"
      ]
     },
     "execution_count": 12,
     "metadata": {},
     "output_type": "execute_result"
    }
   ],
   "source": [
    "extract_answer(response['choices'][0]['text'], 4)"
   ]
  },
  {
   "cell_type": "code",
   "execution_count": 13,
   "id": "9e14bea4",
   "metadata": {},
   "outputs": [],
   "source": [
    "student_view = create_student_view(response['choices'][0]['text'], 4)"
   ]
  },
  {
   "cell_type": "code",
   "execution_count": 14,
   "id": "546a9e1b",
   "metadata": {},
   "outputs": [],
   "source": [
    "correct_answers = extract_answer(response['choices'][0]['text'], 4)"
   ]
  },
  {
   "cell_type": "code",
   "execution_count": 15,
   "id": "4f911392",
   "metadata": {},
   "outputs": [],
   "source": [
    "# TAKE THE EXAM\n",
    "\n",
    "def take_exam(student_view):\n",
    "    student_answers = {}\n",
    "\n",
    "    for question, question_view in student_view.items():\n",
    "        print(question_view)\n",
    "        answer = input(\"Enter your answer: \")\n",
    "        student_answers[question] = answer\n",
    "        \n",
    "    return student_answers"
   ]
  },
  {
   "cell_type": "code",
   "execution_count": 16,
   "id": "ad23f99b",
   "metadata": {},
   "outputs": [
    {
     "name": "stdout",
     "output_type": "stream",
     "text": [
      "\n",
      "\n",
      "Question 1: Who founded the Persian Empire?\n",
      "A) Cyrus the Great \n",
      "B) Darius I \n",
      "C) Xerxes I \n",
      "D) Alexander the Great\n",
      "\n",
      "Enter your answer: a\n",
      "\n",
      "Question 2: When was the Persian Empire at its largest?\n",
      "A) 500 BC \n",
      "B) 330 BC \n",
      "C) 500 AD \n",
      "D) 651 AD\n",
      "\n",
      "Enter your answer: a\n",
      "\n",
      "Question 3: What is the name of the language spoken in the Persian Empire?\n",
      "A) Greek \n",
      "B) Latin \n",
      "C) Persian \n",
      "D) Arabic \n",
      "\n",
      "Enter your answer: c\n",
      "\n",
      "Question 4: What was the primary religion of the Persian Empire?\n",
      "A) Christianity \n",
      "B) Islam \n",
      "C) Judaism \n",
      "D) Zoroastrianism\n",
      "\n",
      "Enter your answer: d\n"
     ]
    }
   ],
   "source": [
    "student_answers = take_exam(student_view)"
   ]
  },
  {
   "cell_type": "code",
   "execution_count": 17,
   "id": "47796618",
   "metadata": {},
   "outputs": [
    {
     "data": {
      "text/plain": [
       "{1: 'a', 2: 'a', 3: 'c', 4: 'd'}"
      ]
     },
     "execution_count": 17,
     "metadata": {},
     "output_type": "execute_result"
    }
   ],
   "source": [
    "student_answers"
   ]
  },
  {
   "cell_type": "code",
   "execution_count": 18,
   "id": "d746be83",
   "metadata": {},
   "outputs": [],
   "source": [
    "def grade_exam(correct_answers, student_answers):\n",
    "    correct_answers_count = 0\n",
    "    for question, answer in student_answers.items():\n",
    "        if answer.upper() == correct_answers[question][16]:\n",
    "            correct_answers_count += 1\n",
    "            \n",
    "    grade = 100 * correct_answers_count / len(correct_answers)\n",
    "    \n",
    "    if grade < 60:\n",
    "        passed = \"NO PASS\"\n",
    "    else:\n",
    "        passed = \"PASS!\"\n",
    "        \n",
    "    return f\"{correct_answers_count}/{len(correct_answers)} correct! You got {grade}  grade, {passed}\""
   ]
  },
  {
   "cell_type": "code",
   "execution_count": 19,
   "id": "bb74555c",
   "metadata": {},
   "outputs": [
    {
     "data": {
      "text/plain": [
       "'3/4 correct! You got 75.0  grade, PASS!'"
      ]
     },
     "execution_count": 19,
     "metadata": {},
     "output_type": "execute_result"
    }
   ],
   "source": [
    "grade_exam(correct_answers, student_answers)"
   ]
  },
  {
   "cell_type": "code",
   "execution_count": null,
   "id": "60e6572e",
   "metadata": {},
   "outputs": [],
   "source": []
  }
 ],
 "metadata": {
  "kernelspec": {
   "display_name": "Python 3 (ipykernel)",
   "language": "python",
   "name": "python3"
  },
  "language_info": {
   "codemirror_mode": {
    "name": "ipython",
    "version": 3
   },
   "file_extension": ".py",
   "mimetype": "text/x-python",
   "name": "python",
   "nbconvert_exporter": "python",
   "pygments_lexer": "ipython3",
   "version": "3.8.16"
  }
 },
 "nbformat": 4,
 "nbformat_minor": 5
}
