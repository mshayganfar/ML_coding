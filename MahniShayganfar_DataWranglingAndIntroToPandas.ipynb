{
 "cells": [
  {
   "cell_type": "code",
   "execution_count": 1,
   "metadata": {},
   "outputs": [
    {
     "data": {
      "text/plain": [
       "'1.2.4'"
      ]
     },
     "execution_count": 1,
     "metadata": {},
     "output_type": "execute_result"
    }
   ],
   "source": [
    "import pandas as pd\n",
    "pd.__version__"
   ]
  },
  {
   "cell_type": "code",
   "execution_count": 2,
   "metadata": {},
   "outputs": [],
   "source": [
    "# to imbed plots, prevents pop-up windows for plots (Jupyter syntax)\n",
    "%matplotlib inline"
   ]
  },
  {
   "cell_type": "code",
   "execution_count": 13,
   "metadata": {},
   "outputs": [
    {
     "data": {
      "text/html": [
       "<div>\n",
       "<style scoped>\n",
       "    .dataframe tbody tr th:only-of-type {\n",
       "        vertical-align: middle;\n",
       "    }\n",
       "\n",
       "    .dataframe tbody tr th {\n",
       "        vertical-align: top;\n",
       "    }\n",
       "\n",
       "    .dataframe thead th {\n",
       "        text-align: right;\n",
       "    }\n",
       "</style>\n",
       "<table border=\"1\" class=\"dataframe\">\n",
       "  <thead>\n",
       "    <tr style=\"text-align: right;\">\n",
       "      <th></th>\n",
       "      <th>Open</th>\n",
       "      <th>High</th>\n",
       "      <th>Low</th>\n",
       "      <th>Close</th>\n",
       "      <th>Volume</th>\n",
       "    </tr>\n",
       "    <tr>\n",
       "      <th>Date</th>\n",
       "      <th></th>\n",
       "      <th></th>\n",
       "      <th></th>\n",
       "      <th></th>\n",
       "      <th></th>\n",
       "    </tr>\n",
       "  </thead>\n",
       "  <tbody>\n",
       "    <tr>\n",
       "      <th>2010-01-04</th>\n",
       "      <td>313.16</td>\n",
       "      <td>314.44</td>\n",
       "      <td>311.81</td>\n",
       "      <td>313.06</td>\n",
       "      <td>NaN</td>\n",
       "    </tr>\n",
       "    <tr>\n",
       "      <th>2010-01-05</th>\n",
       "      <td>313.28</td>\n",
       "      <td>313.61</td>\n",
       "      <td>310.46</td>\n",
       "      <td>311.68</td>\n",
       "      <td>NaN</td>\n",
       "    </tr>\n",
       "    <tr>\n",
       "      <th>2010-01-06</th>\n",
       "      <td>312.62</td>\n",
       "      <td>312.62</td>\n",
       "      <td>302.88</td>\n",
       "      <td>303.83</td>\n",
       "      <td>NaN</td>\n",
       "    </tr>\n",
       "    <tr>\n",
       "      <th>2010-01-07</th>\n",
       "      <td>304.40</td>\n",
       "      <td>304.70</td>\n",
       "      <td>296.03</td>\n",
       "      <td>296.75</td>\n",
       "      <td>NaN</td>\n",
       "    </tr>\n",
       "    <tr>\n",
       "      <th>2010-01-08</th>\n",
       "      <td>295.70</td>\n",
       "      <td>301.32</td>\n",
       "      <td>294.26</td>\n",
       "      <td>300.71</td>\n",
       "      <td>NaN</td>\n",
       "    </tr>\n",
       "    <tr>\n",
       "      <th>...</th>\n",
       "      <td>...</td>\n",
       "      <td>...</td>\n",
       "      <td>...</td>\n",
       "      <td>...</td>\n",
       "      <td>...</td>\n",
       "    </tr>\n",
       "    <tr>\n",
       "      <th>2014-12-24</th>\n",
       "      <td>530.51</td>\n",
       "      <td>531.76</td>\n",
       "      <td>527.02</td>\n",
       "      <td>528.77</td>\n",
       "      <td>704035.0</td>\n",
       "    </tr>\n",
       "    <tr>\n",
       "      <th>2014-12-26</th>\n",
       "      <td>528.77</td>\n",
       "      <td>534.25</td>\n",
       "      <td>527.31</td>\n",
       "      <td>534.03</td>\n",
       "      <td>1037727.0</td>\n",
       "    </tr>\n",
       "    <tr>\n",
       "      <th>2014-12-29</th>\n",
       "      <td>532.19</td>\n",
       "      <td>535.48</td>\n",
       "      <td>530.01</td>\n",
       "      <td>530.33</td>\n",
       "      <td>2276104.0</td>\n",
       "    </tr>\n",
       "    <tr>\n",
       "      <th>2014-12-30</th>\n",
       "      <td>528.09</td>\n",
       "      <td>531.15</td>\n",
       "      <td>527.13</td>\n",
       "      <td>530.42</td>\n",
       "      <td>873923.0</td>\n",
       "    </tr>\n",
       "    <tr>\n",
       "      <th>2014-12-31</th>\n",
       "      <td>531.25</td>\n",
       "      <td>532.60</td>\n",
       "      <td>525.80</td>\n",
       "      <td>526.40</td>\n",
       "      <td>1371819.0</td>\n",
       "    </tr>\n",
       "  </tbody>\n",
       "</table>\n",
       "<p>1257 rows × 5 columns</p>\n",
       "</div>"
      ],
      "text/plain": [
       "              Open    High     Low   Close     Volume\n",
       "Date                                                 \n",
       "2010-01-04  313.16  314.44  311.81  313.06        NaN\n",
       "2010-01-05  313.28  313.61  310.46  311.68        NaN\n",
       "2010-01-06  312.62  312.62  302.88  303.83        NaN\n",
       "2010-01-07  304.40  304.70  296.03  296.75        NaN\n",
       "2010-01-08  295.70  301.32  294.26  300.71        NaN\n",
       "...            ...     ...     ...     ...        ...\n",
       "2014-12-24  530.51  531.76  527.02  528.77   704035.0\n",
       "2014-12-26  528.77  534.25  527.31  534.03  1037727.0\n",
       "2014-12-29  532.19  535.48  530.01  530.33  2276104.0\n",
       "2014-12-30  528.09  531.15  527.13  530.42   873923.0\n",
       "2014-12-31  531.25  532.60  525.80  526.40  1371819.0\n",
       "\n",
       "[1257 rows x 5 columns]"
      ]
     },
     "execution_count": 13,
     "metadata": {},
     "output_type": "execute_result"
    }
   ],
   "source": [
    "# Reading data from a file\n",
    "\n",
    "google = pd.read_csv('/Users/mshayganfar/springboard/strata_data-master/data/goog.csv', index_col='Date', parse_dates=True)\n",
    "google"
   ]
  },
  {
   "cell_type": "code",
   "execution_count": 10,
   "metadata": {},
   "outputs": [
    {
     "name": "stdout",
     "output_type": "stream",
     "text": [
      "Collecting package metadata (current_repodata.json): done\n",
      "Solving environment: done\n",
      "\n",
      "## Package Plan ##\n",
      "\n",
      "  environment location: /Users/mshayganfar/opt/anaconda3\n",
      "\n",
      "  added / updated specs:\n",
      "    - pandas-datareader\n",
      "\n",
      "\n",
      "The following packages will be downloaded:\n",
      "\n",
      "    package                    |            build\n",
      "    ---------------------------|-----------------\n",
      "    conda-4.10.3               |   py38hecd8cb5_0         2.9 MB\n",
      "    pandas-datareader-0.10.0   |     pyhd3eb1b0_0          71 KB\n",
      "    ------------------------------------------------------------\n",
      "                                           Total:         2.9 MB\n",
      "\n",
      "The following NEW packages will be INSTALLED:\n",
      "\n",
      "  pandas-datareader  pkgs/main/noarch::pandas-datareader-0.10.0-pyhd3eb1b0_0\n",
      "\n",
      "The following packages will be SUPERSEDED by a higher-priority channel:\n",
      "\n",
      "  conda              conda-forge::conda-4.10.3-py38h50d173~ --> pkgs/main::conda-4.10.3-py38hecd8cb5_0\n",
      "\n",
      "\n",
      "\n",
      "Downloading and Extracting Packages\n",
      "pandas-datareader-0. | 71 KB     | ##################################### | 100% \n",
      "conda-4.10.3         | 2.9 MB    | ##################################### | 100% \n",
      "Preparing transaction: done\n",
      "Verifying transaction: done\n",
      "Executing transaction: done\n"
     ]
    }
   ],
   "source": [
    "!conda install -y pandas-datareader"
   ]
  },
  {
   "cell_type": "code",
   "execution_count": 11,
   "metadata": {},
   "outputs": [],
   "source": [
    "# Reading data from the Web\n",
    "from pandas_datareader import data as pd_data"
   ]
  },
  {
   "cell_type": "code",
   "execution_count": 17,
   "metadata": {},
   "outputs": [
    {
     "data": {
      "text/html": [
       "<div>\n",
       "<style scoped>\n",
       "    .dataframe tbody tr th:only-of-type {\n",
       "        vertical-align: middle;\n",
       "    }\n",
       "\n",
       "    .dataframe tbody tr th {\n",
       "        vertical-align: top;\n",
       "    }\n",
       "\n",
       "    .dataframe thead th {\n",
       "        text-align: right;\n",
       "    }\n",
       "</style>\n",
       "<table border=\"1\" class=\"dataframe\">\n",
       "  <thead>\n",
       "    <tr style=\"text-align: right;\">\n",
       "      <th></th>\n",
       "      <th>High</th>\n",
       "      <th>Low</th>\n",
       "      <th>Open</th>\n",
       "      <th>Close</th>\n",
       "      <th>Volume</th>\n",
       "      <th>Adj Close</th>\n",
       "    </tr>\n",
       "    <tr>\n",
       "      <th>Date</th>\n",
       "      <th></th>\n",
       "      <th></th>\n",
       "      <th></th>\n",
       "      <th></th>\n",
       "      <th></th>\n",
       "      <th></th>\n",
       "    </tr>\n",
       "  </thead>\n",
       "  <tbody>\n",
       "    <tr>\n",
       "      <th>2010-01-04</th>\n",
       "      <td>313.579620</td>\n",
       "      <td>310.954468</td>\n",
       "      <td>312.304413</td>\n",
       "      <td>312.204773</td>\n",
       "      <td>3927065.0</td>\n",
       "      <td>312.204773</td>\n",
       "    </tr>\n",
       "    <tr>\n",
       "      <th>2010-01-05</th>\n",
       "      <td>312.747742</td>\n",
       "      <td>309.609497</td>\n",
       "      <td>312.418976</td>\n",
       "      <td>310.829926</td>\n",
       "      <td>6031925.0</td>\n",
       "      <td>310.829926</td>\n",
       "    </tr>\n",
       "    <tr>\n",
       "      <th>2010-01-06</th>\n",
       "      <td>311.761444</td>\n",
       "      <td>302.047852</td>\n",
       "      <td>311.761444</td>\n",
       "      <td>302.994293</td>\n",
       "      <td>7987226.0</td>\n",
       "      <td>302.994293</td>\n",
       "    </tr>\n",
       "    <tr>\n",
       "      <th>2010-01-07</th>\n",
       "      <td>303.861053</td>\n",
       "      <td>295.218445</td>\n",
       "      <td>303.562164</td>\n",
       "      <td>295.940735</td>\n",
       "      <td>12876685.0</td>\n",
       "      <td>295.940735</td>\n",
       "    </tr>\n",
       "    <tr>\n",
       "      <th>2010-01-08</th>\n",
       "      <td>300.498657</td>\n",
       "      <td>293.455048</td>\n",
       "      <td>294.894653</td>\n",
       "      <td>299.885956</td>\n",
       "      <td>9484016.0</td>\n",
       "      <td>299.885956</td>\n",
       "    </tr>\n",
       "    <tr>\n",
       "      <th>...</th>\n",
       "      <td>...</td>\n",
       "      <td>...</td>\n",
       "      <td>...</td>\n",
       "      <td>...</td>\n",
       "      <td>...</td>\n",
       "      <td>...</td>\n",
       "    </tr>\n",
       "    <tr>\n",
       "      <th>2014-12-24</th>\n",
       "      <td>530.303040</td>\n",
       "      <td>525.577026</td>\n",
       "      <td>529.057495</td>\n",
       "      <td>527.322266</td>\n",
       "      <td>705933.0</td>\n",
       "      <td>527.322266</td>\n",
       "    </tr>\n",
       "    <tr>\n",
       "      <th>2014-12-26</th>\n",
       "      <td>532.787231</td>\n",
       "      <td>525.866211</td>\n",
       "      <td>527.322266</td>\n",
       "      <td>532.567810</td>\n",
       "      <td>1040549.0</td>\n",
       "      <td>532.567810</td>\n",
       "    </tr>\n",
       "    <tr>\n",
       "      <th>2014-12-29</th>\n",
       "      <td>534.013855</td>\n",
       "      <td>528.559814</td>\n",
       "      <td>530.732849</td>\n",
       "      <td>528.877991</td>\n",
       "      <td>2278539.0</td>\n",
       "      <td>528.877991</td>\n",
       "    </tr>\n",
       "    <tr>\n",
       "      <th>2014-12-30</th>\n",
       "      <td>529.695740</td>\n",
       "      <td>525.686707</td>\n",
       "      <td>526.644104</td>\n",
       "      <td>528.967712</td>\n",
       "      <td>876299.0</td>\n",
       "      <td>528.967712</td>\n",
       "    </tr>\n",
       "    <tr>\n",
       "      <th>2014-12-31</th>\n",
       "      <td>531.141724</td>\n",
       "      <td>524.360352</td>\n",
       "      <td>529.795471</td>\n",
       "      <td>524.958740</td>\n",
       "      <td>1368246.0</td>\n",
       "      <td>524.958740</td>\n",
       "    </tr>\n",
       "  </tbody>\n",
       "</table>\n",
       "<p>1258 rows × 6 columns</p>\n",
       "</div>"
      ],
      "text/plain": [
       "                  High         Low        Open       Close      Volume  \\\n",
       "Date                                                                     \n",
       "2010-01-04  313.579620  310.954468  312.304413  312.204773   3927065.0   \n",
       "2010-01-05  312.747742  309.609497  312.418976  310.829926   6031925.0   \n",
       "2010-01-06  311.761444  302.047852  311.761444  302.994293   7987226.0   \n",
       "2010-01-07  303.861053  295.218445  303.562164  295.940735  12876685.0   \n",
       "2010-01-08  300.498657  293.455048  294.894653  299.885956   9484016.0   \n",
       "...                ...         ...         ...         ...         ...   \n",
       "2014-12-24  530.303040  525.577026  529.057495  527.322266    705933.0   \n",
       "2014-12-26  532.787231  525.866211  527.322266  532.567810   1040549.0   \n",
       "2014-12-29  534.013855  528.559814  530.732849  528.877991   2278539.0   \n",
       "2014-12-30  529.695740  525.686707  526.644104  528.967712    876299.0   \n",
       "2014-12-31  531.141724  524.360352  529.795471  524.958740   1368246.0   \n",
       "\n",
       "             Adj Close  \n",
       "Date                    \n",
       "2010-01-04  312.204773  \n",
       "2010-01-05  310.829926  \n",
       "2010-01-06  302.994293  \n",
       "2010-01-07  295.940735  \n",
       "2010-01-08  299.885956  \n",
       "...                ...  \n",
       "2014-12-24  527.322266  \n",
       "2014-12-26  532.567810  \n",
       "2014-12-29  528.877991  \n",
       "2014-12-30  528.967712  \n",
       "2014-12-31  524.958740  \n",
       "\n",
       "[1258 rows x 6 columns]"
      ]
     },
     "execution_count": 17,
     "metadata": {},
     "output_type": "execute_result"
    }
   ],
   "source": [
    "start  = pd.Timestamp('2010-1-1')\n",
    "end    = pd.Timestamp('2014-12-31')\n",
    "google = pd_data.DataReader(\"GOOG\", 'yahoo', start, end)\n",
    "\n",
    "## Note: this is how we generated the data file read above!\n",
    "# google.to_csv('data/goog.csv', index=True, encoding='utf-8')\n",
    "google"
   ]
  },
  {
   "cell_type": "code",
   "execution_count": 18,
   "metadata": {},
   "outputs": [
    {
     "data": {
      "text/plain": [
       "pandas.core.frame.DataFrame"
      ]
     },
     "execution_count": 18,
     "metadata": {},
     "output_type": "execute_result"
    }
   ],
   "source": [
    "type(google)"
   ]
  },
  {
   "cell_type": "markdown",
   "metadata": {},
   "source": [
    "## Data Inspection"
   ]
  },
  {
   "cell_type": "markdown",
   "metadata": {},
   "source": [
    "Use the method `DataFrame.head()` to inspect the first few rows of data:\n",
    "* great way to inspect smaller data sets\n",
    "* useful for verifying you've read the right file"
   ]
  },
  {
   "cell_type": "code",
   "execution_count": 19,
   "metadata": {},
   "outputs": [
    {
     "data": {
      "text/html": [
       "<div>\n",
       "<style scoped>\n",
       "    .dataframe tbody tr th:only-of-type {\n",
       "        vertical-align: middle;\n",
       "    }\n",
       "\n",
       "    .dataframe tbody tr th {\n",
       "        vertical-align: top;\n",
       "    }\n",
       "\n",
       "    .dataframe thead th {\n",
       "        text-align: right;\n",
       "    }\n",
       "</style>\n",
       "<table border=\"1\" class=\"dataframe\">\n",
       "  <thead>\n",
       "    <tr style=\"text-align: right;\">\n",
       "      <th></th>\n",
       "      <th>High</th>\n",
       "      <th>Low</th>\n",
       "      <th>Open</th>\n",
       "      <th>Close</th>\n",
       "      <th>Volume</th>\n",
       "      <th>Adj Close</th>\n",
       "    </tr>\n",
       "    <tr>\n",
       "      <th>Date</th>\n",
       "      <th></th>\n",
       "      <th></th>\n",
       "      <th></th>\n",
       "      <th></th>\n",
       "      <th></th>\n",
       "      <th></th>\n",
       "    </tr>\n",
       "  </thead>\n",
       "  <tbody>\n",
       "    <tr>\n",
       "      <th>2010-01-04</th>\n",
       "      <td>313.579620</td>\n",
       "      <td>310.954468</td>\n",
       "      <td>312.304413</td>\n",
       "      <td>312.204773</td>\n",
       "      <td>3927065.0</td>\n",
       "      <td>312.204773</td>\n",
       "    </tr>\n",
       "    <tr>\n",
       "      <th>2010-01-05</th>\n",
       "      <td>312.747742</td>\n",
       "      <td>309.609497</td>\n",
       "      <td>312.418976</td>\n",
       "      <td>310.829926</td>\n",
       "      <td>6031925.0</td>\n",
       "      <td>310.829926</td>\n",
       "    </tr>\n",
       "    <tr>\n",
       "      <th>2010-01-06</th>\n",
       "      <td>311.761444</td>\n",
       "      <td>302.047852</td>\n",
       "      <td>311.761444</td>\n",
       "      <td>302.994293</td>\n",
       "      <td>7987226.0</td>\n",
       "      <td>302.994293</td>\n",
       "    </tr>\n",
       "    <tr>\n",
       "      <th>2010-01-07</th>\n",
       "      <td>303.861053</td>\n",
       "      <td>295.218445</td>\n",
       "      <td>303.562164</td>\n",
       "      <td>295.940735</td>\n",
       "      <td>12876685.0</td>\n",
       "      <td>295.940735</td>\n",
       "    </tr>\n",
       "    <tr>\n",
       "      <th>2010-01-08</th>\n",
       "      <td>300.498657</td>\n",
       "      <td>293.455048</td>\n",
       "      <td>294.894653</td>\n",
       "      <td>299.885956</td>\n",
       "      <td>9484016.0</td>\n",
       "      <td>299.885956</td>\n",
       "    </tr>\n",
       "  </tbody>\n",
       "</table>\n",
       "</div>"
      ],
      "text/plain": [
       "                  High         Low        Open       Close      Volume  \\\n",
       "Date                                                                     \n",
       "2010-01-04  313.579620  310.954468  312.304413  312.204773   3927065.0   \n",
       "2010-01-05  312.747742  309.609497  312.418976  310.829926   6031925.0   \n",
       "2010-01-06  311.761444  302.047852  311.761444  302.994293   7987226.0   \n",
       "2010-01-07  303.861053  295.218445  303.562164  295.940735  12876685.0   \n",
       "2010-01-08  300.498657  293.455048  294.894653  299.885956   9484016.0   \n",
       "\n",
       "             Adj Close  \n",
       "Date                    \n",
       "2010-01-04  312.204773  \n",
       "2010-01-05  310.829926  \n",
       "2010-01-06  302.994293  \n",
       "2010-01-07  295.940735  \n",
       "2010-01-08  299.885956  "
      ]
     },
     "execution_count": 19,
     "metadata": {},
     "output_type": "execute_result"
    }
   ],
   "source": [
    "google.head()"
   ]
  },
  {
   "cell_type": "code",
   "execution_count": 20,
   "metadata": {},
   "outputs": [
    {
     "name": "stdout",
     "output_type": "stream",
     "text": [
      "<class 'pandas.core.frame.DataFrame'>\n",
      "DatetimeIndex: 1258 entries, 2010-01-04 to 2014-12-31\n",
      "Data columns (total 6 columns):\n",
      " #   Column     Non-Null Count  Dtype  \n",
      "---  ------     --------------  -----  \n",
      " 0   High       1258 non-null   float64\n",
      " 1   Low        1258 non-null   float64\n",
      " 2   Open       1258 non-null   float64\n",
      " 3   Close      1258 non-null   float64\n",
      " 4   Volume     1258 non-null   float64\n",
      " 5   Adj Close  1258 non-null   float64\n",
      "dtypes: float64(6)\n",
      "memory usage: 68.8 KB\n"
     ]
    }
   ],
   "source": [
    "google.info()"
   ]
  },
  {
   "cell_type": "markdown",
   "metadata": {},
   "source": [
    "## Data Indexing"
   ]
  },
  {
   "cell_type": "markdown",
   "metadata": {},
   "source": [
    "* Pandas DataFrames have a special Index, goes beyond integer indexing\n",
    "* Pandas DataFrames are indexed by column label, then (row) Index:"
   ]
  },
  {
   "cell_type": "code",
   "execution_count": 21,
   "metadata": {},
   "outputs": [
    {
     "data": {
      "text/plain": [
       "Date\n",
       "2010-01-04    312.304413\n",
       "2010-01-05    312.418976\n",
       "2010-01-06    311.761444\n",
       "2010-01-07    303.562164\n",
       "2010-01-08    294.894653\n",
       "                 ...    \n",
       "2014-12-24    529.057495\n",
       "2014-12-26    527.322266\n",
       "2014-12-29    530.732849\n",
       "2014-12-30    526.644104\n",
       "2014-12-31    529.795471\n",
       "Name: Open, Length: 1258, dtype: float64"
      ]
     },
     "execution_count": 21,
     "metadata": {},
     "output_type": "execute_result"
    }
   ],
   "source": [
    "google['Open']"
   ]
  },
  {
   "cell_type": "code",
   "execution_count": 22,
   "metadata": {},
   "outputs": [
    {
     "data": {
      "text/plain": [
       "Date\n",
       "2010-01-04    312.304413\n",
       "2010-01-05    312.418976\n",
       "2010-01-06    311.761444\n",
       "2010-01-07    303.562164\n",
       "2010-01-08    294.894653\n",
       "Name: Open, dtype: float64"
      ]
     },
     "execution_count": 22,
     "metadata": {},
     "output_type": "execute_result"
    }
   ],
   "source": [
    "# Inspect the first 5 rows or the 'Open' column, using integer indexing\n",
    "\n",
    "google['Open'].iloc[0:5]"
   ]
  },
  {
   "cell_type": "code",
   "execution_count": 23,
   "metadata": {},
   "outputs": [
    {
     "data": {
      "text/plain": [
       "Date\n",
       "2010-01-04    312.304413\n",
       "2010-01-05    312.418976\n",
       "2010-01-06    311.761444\n",
       "2010-01-07    303.562164\n",
       "2010-01-08    294.894653\n",
       "Name: Open, dtype: float64"
      ]
     },
     "execution_count": 23,
     "metadata": {},
     "output_type": "execute_result"
    }
   ],
   "source": [
    "# Inspect the first 5 rows or the 'Open' column, using date indexing\n",
    "\n",
    "google.loc['2010-01-04':'2010-01-08','Open']"
   ]
  },
  {
   "cell_type": "markdown",
   "metadata": {},
   "source": [
    "## Data Filtering"
   ]
  },
  {
   "cell_type": "code",
   "execution_count": 24,
   "metadata": {},
   "outputs": [
    {
     "data": {
      "text/html": [
       "<div>\n",
       "<style scoped>\n",
       "    .dataframe tbody tr th:only-of-type {\n",
       "        vertical-align: middle;\n",
       "    }\n",
       "\n",
       "    .dataframe tbody tr th {\n",
       "        vertical-align: top;\n",
       "    }\n",
       "\n",
       "    .dataframe thead th {\n",
       "        text-align: right;\n",
       "    }\n",
       "</style>\n",
       "<table border=\"1\" class=\"dataframe\">\n",
       "  <thead>\n",
       "    <tr style=\"text-align: right;\">\n",
       "      <th></th>\n",
       "      <th>High</th>\n",
       "      <th>Low</th>\n",
       "      <th>Open</th>\n",
       "      <th>Close</th>\n",
       "      <th>Volume</th>\n",
       "      <th>Adj Close</th>\n",
       "    </tr>\n",
       "    <tr>\n",
       "      <th>Date</th>\n",
       "      <th></th>\n",
       "      <th></th>\n",
       "      <th></th>\n",
       "      <th></th>\n",
       "      <th></th>\n",
       "      <th></th>\n",
       "    </tr>\n",
       "  </thead>\n",
       "  <tbody>\n",
       "    <tr>\n",
       "      <th>2010-01-08</th>\n",
       "      <td>300.498657</td>\n",
       "      <td>293.455048</td>\n",
       "      <td>294.894653</td>\n",
       "      <td>299.885956</td>\n",
       "      <td>9484016.0</td>\n",
       "      <td>299.885956</td>\n",
       "    </tr>\n",
       "    <tr>\n",
       "      <th>2010-01-13</th>\n",
       "      <td>293.091431</td>\n",
       "      <td>285.878448</td>\n",
       "      <td>287.168610</td>\n",
       "      <td>292.448822</td>\n",
       "      <td>13041902.0</td>\n",
       "      <td>292.448822</td>\n",
       "    </tr>\n",
       "    <tr>\n",
       "      <th>2010-01-14</th>\n",
       "      <td>295.990570</td>\n",
       "      <td>290.316833</td>\n",
       "      <td>290.859772</td>\n",
       "      <td>293.823669</td>\n",
       "      <td>8511986.0</td>\n",
       "      <td>293.823669</td>\n",
       "    </tr>\n",
       "    <tr>\n",
       "      <th>2010-01-19</th>\n",
       "      <td>294.107605</td>\n",
       "      <td>287.069000</td>\n",
       "      <td>289.514832</td>\n",
       "      <td>292.712830</td>\n",
       "      <td>8665760.0</td>\n",
       "      <td>292.712830</td>\n",
       "    </tr>\n",
       "    <tr>\n",
       "      <th>2010-01-26</th>\n",
       "      <td>273.773834</td>\n",
       "      <td>267.143677</td>\n",
       "      <td>267.980530</td>\n",
       "      <td>270.197235</td>\n",
       "      <td>8743651.0</td>\n",
       "      <td>270.197235</td>\n",
       "    </tr>\n",
       "  </tbody>\n",
       "</table>\n",
       "</div>"
      ],
      "text/plain": [
       "                  High         Low        Open       Close      Volume  \\\n",
       "Date                                                                     \n",
       "2010-01-08  300.498657  293.455048  294.894653  299.885956   9484016.0   \n",
       "2010-01-13  293.091431  285.878448  287.168610  292.448822  13041902.0   \n",
       "2010-01-14  295.990570  290.316833  290.859772  293.823669   8511986.0   \n",
       "2010-01-19  294.107605  287.069000  289.514832  292.712830   8665760.0   \n",
       "2010-01-26  273.773834  267.143677  267.980530  270.197235   8743651.0   \n",
       "\n",
       "             Adj Close  \n",
       "Date                    \n",
       "2010-01-08  299.885956  \n",
       "2010-01-13  292.448822  \n",
       "2010-01-14  293.823669  \n",
       "2010-01-19  292.712830  \n",
       "2010-01-26  270.197235  "
      ]
     },
     "execution_count": 24,
     "metadata": {},
     "output_type": "execute_result"
    }
   ],
   "source": [
    "# Filtering by conditional\n",
    "google_up = google[ google['Close'] > google['Open'] ]\n",
    "google_up.head()"
   ]
  },
  {
   "cell_type": "code",
   "execution_count": 25,
   "metadata": {},
   "outputs": [
    {
     "data": {
      "text/html": [
       "<div>\n",
       "<style scoped>\n",
       "    .dataframe tbody tr th:only-of-type {\n",
       "        vertical-align: middle;\n",
       "    }\n",
       "\n",
       "    .dataframe tbody tr th {\n",
       "        vertical-align: top;\n",
       "    }\n",
       "\n",
       "    .dataframe thead th {\n",
       "        text-align: right;\n",
       "    }\n",
       "</style>\n",
       "<table border=\"1\" class=\"dataframe\">\n",
       "  <thead>\n",
       "    <tr style=\"text-align: right;\">\n",
       "      <th></th>\n",
       "      <th>High</th>\n",
       "      <th>Low</th>\n",
       "      <th>Open</th>\n",
       "      <th>Close</th>\n",
       "      <th>Volume</th>\n",
       "      <th>Adj Close</th>\n",
       "    </tr>\n",
       "    <tr>\n",
       "      <th>Date</th>\n",
       "      <th></th>\n",
       "      <th></th>\n",
       "      <th></th>\n",
       "      <th></th>\n",
       "      <th></th>\n",
       "      <th></th>\n",
       "    </tr>\n",
       "  </thead>\n",
       "  <tbody>\n",
       "    <tr>\n",
       "      <th>2010-01-04</th>\n",
       "      <td>313.579620</td>\n",
       "      <td>310.954468</td>\n",
       "      <td>312.304413</td>\n",
       "      <td>312.204773</td>\n",
       "      <td>3927065.0</td>\n",
       "      <td>312.204773</td>\n",
       "    </tr>\n",
       "    <tr>\n",
       "      <th>2010-01-05</th>\n",
       "      <td>312.747742</td>\n",
       "      <td>309.609497</td>\n",
       "      <td>312.418976</td>\n",
       "      <td>310.829926</td>\n",
       "      <td>6031925.0</td>\n",
       "      <td>310.829926</td>\n",
       "    </tr>\n",
       "    <tr>\n",
       "      <th>2010-01-06</th>\n",
       "      <td>311.761444</td>\n",
       "      <td>302.047852</td>\n",
       "      <td>311.761444</td>\n",
       "      <td>302.994293</td>\n",
       "      <td>7987226.0</td>\n",
       "      <td>302.994293</td>\n",
       "    </tr>\n",
       "    <tr>\n",
       "      <th>2010-01-07</th>\n",
       "      <td>303.861053</td>\n",
       "      <td>295.218445</td>\n",
       "      <td>303.562164</td>\n",
       "      <td>295.940735</td>\n",
       "      <td>12876685.0</td>\n",
       "      <td>295.940735</td>\n",
       "    </tr>\n",
       "    <tr>\n",
       "      <th>2010-01-08</th>\n",
       "      <td>300.498657</td>\n",
       "      <td>293.455048</td>\n",
       "      <td>294.894653</td>\n",
       "      <td>299.885956</td>\n",
       "      <td>9484016.0</td>\n",
       "      <td>299.885956</td>\n",
       "    </tr>\n",
       "  </tbody>\n",
       "</table>\n",
       "</div>"
      ],
      "text/plain": [
       "                  High         Low        Open       Close      Volume  \\\n",
       "Date                                                                     \n",
       "2010-01-04  313.579620  310.954468  312.304413  312.204773   3927065.0   \n",
       "2010-01-05  312.747742  309.609497  312.418976  310.829926   6031925.0   \n",
       "2010-01-06  311.761444  302.047852  311.761444  302.994293   7987226.0   \n",
       "2010-01-07  303.861053  295.218445  303.562164  295.940735  12876685.0   \n",
       "2010-01-08  300.498657  293.455048  294.894653  299.885956   9484016.0   \n",
       "\n",
       "             Adj Close  \n",
       "Date                    \n",
       "2010-01-04  312.204773  \n",
       "2010-01-05  310.829926  \n",
       "2010-01-06  302.994293  \n",
       "2010-01-07  295.940735  \n",
       "2010-01-08  299.885956  "
      ]
     },
     "execution_count": 25,
     "metadata": {},
     "output_type": "execute_result"
    }
   ],
   "source": [
    "# Filtering out missing data\n",
    "\n",
    "google_filtered = google[pd.isnull(google['Volume']) == False ]\n",
    "google_filtered.head()"
   ]
  },
  {
   "cell_type": "markdown",
   "metadata": {},
   "source": [
    "## Data Statistics"
   ]
  },
  {
   "cell_type": "markdown",
   "metadata": {},
   "source": [
    "In Pandas we can very easily perform many types of statistical operations. "
   ]
  },
  {
   "cell_type": "code",
   "execution_count": 27,
   "metadata": {},
   "outputs": [
    {
     "data": {
      "text/html": [
       "<div>\n",
       "<style scoped>\n",
       "    .dataframe tbody tr th:only-of-type {\n",
       "        vertical-align: middle;\n",
       "    }\n",
       "\n",
       "    .dataframe tbody tr th {\n",
       "        vertical-align: top;\n",
       "    }\n",
       "\n",
       "    .dataframe thead th {\n",
       "        text-align: right;\n",
       "    }\n",
       "</style>\n",
       "<table border=\"1\" class=\"dataframe\">\n",
       "  <thead>\n",
       "    <tr style=\"text-align: right;\">\n",
       "      <th></th>\n",
       "      <th>High</th>\n",
       "      <th>Low</th>\n",
       "      <th>Open</th>\n",
       "      <th>Close</th>\n",
       "      <th>Volume</th>\n",
       "      <th>Adj Close</th>\n",
       "    </tr>\n",
       "  </thead>\n",
       "  <tbody>\n",
       "    <tr>\n",
       "      <th>count</th>\n",
       "      <td>1258.000000</td>\n",
       "      <td>1258.000000</td>\n",
       "      <td>1258.000000</td>\n",
       "      <td>1258.000000</td>\n",
       "      <td>1.258000e+03</td>\n",
       "      <td>1258.000000</td>\n",
       "    </tr>\n",
       "    <tr>\n",
       "      <th>mean</th>\n",
       "      <td>377.367383</td>\n",
       "      <td>371.049882</td>\n",
       "      <td>374.434646</td>\n",
       "      <td>374.229328</td>\n",
       "      <td>4.893265e+06</td>\n",
       "      <td>374.229328</td>\n",
       "    </tr>\n",
       "    <tr>\n",
       "      <th>std</th>\n",
       "      <td>116.003369</td>\n",
       "      <td>114.606947</td>\n",
       "      <td>115.505911</td>\n",
       "      <td>115.334328</td>\n",
       "      <td>3.027504e+06</td>\n",
       "      <td>115.334328</td>\n",
       "    </tr>\n",
       "    <tr>\n",
       "      <th>min</th>\n",
       "      <td>220.314209</td>\n",
       "      <td>216.005356</td>\n",
       "      <td>218.336624</td>\n",
       "      <td>217.220810</td>\n",
       "      <td>7.922000e+03</td>\n",
       "      <td>217.220810</td>\n",
       "    </tr>\n",
       "    <tr>\n",
       "      <th>25%</th>\n",
       "      <td>287.877205</td>\n",
       "      <td>282.204735</td>\n",
       "      <td>285.010452</td>\n",
       "      <td>284.564621</td>\n",
       "      <td>3.245068e+06</td>\n",
       "      <td>284.564621</td>\n",
       "    </tr>\n",
       "    <tr>\n",
       "      <th>50%</th>\n",
       "      <td>319.858597</td>\n",
       "      <td>314.212250</td>\n",
       "      <td>317.746506</td>\n",
       "      <td>316.341782</td>\n",
       "      <td>4.362591e+06</td>\n",
       "      <td>316.341782</td>\n",
       "    </tr>\n",
       "    <tr>\n",
       "      <th>75%</th>\n",
       "      <td>454.735542</td>\n",
       "      <td>448.408005</td>\n",
       "      <td>451.777878</td>\n",
       "      <td>451.520088</td>\n",
       "      <td>5.953884e+06</td>\n",
       "      <td>451.520088</td>\n",
       "    </tr>\n",
       "    <tr>\n",
       "      <th>max</th>\n",
       "      <td>612.145508</td>\n",
       "      <td>607.024719</td>\n",
       "      <td>611.109436</td>\n",
       "      <td>607.806763</td>\n",
       "      <td>2.976073e+07</td>\n",
       "      <td>607.806763</td>\n",
       "    </tr>\n",
       "  </tbody>\n",
       "</table>\n",
       "</div>"
      ],
      "text/plain": [
       "              High          Low         Open        Close        Volume  \\\n",
       "count  1258.000000  1258.000000  1258.000000  1258.000000  1.258000e+03   \n",
       "mean    377.367383   371.049882   374.434646   374.229328  4.893265e+06   \n",
       "std     116.003369   114.606947   115.505911   115.334328  3.027504e+06   \n",
       "min     220.314209   216.005356   218.336624   217.220810  7.922000e+03   \n",
       "25%     287.877205   282.204735   285.010452   284.564621  3.245068e+06   \n",
       "50%     319.858597   314.212250   317.746506   316.341782  4.362591e+06   \n",
       "75%     454.735542   448.408005   451.777878   451.520088  5.953884e+06   \n",
       "max     612.145508   607.024719   611.109436   607.806763  2.976073e+07   \n",
       "\n",
       "         Adj Close  \n",
       "count  1258.000000  \n",
       "mean    374.229328  \n",
       "std     115.334328  \n",
       "min     217.220810  \n",
       "25%     284.564621  \n",
       "50%     316.341782  \n",
       "75%     451.520088  \n",
       "max     607.806763  "
      ]
     },
     "execution_count": 27,
     "metadata": {},
     "output_type": "execute_result"
    }
   ],
   "source": [
    "google.describe()"
   ]
  },
  {
   "cell_type": "markdown",
   "metadata": {},
   "source": [
    "## Data Computations"
   ]
  },
  {
   "cell_type": "markdown",
   "metadata": {},
   "source": [
    "One simple example motivated by finance is to compute the \"volatility\" -- the rolling standard deviation of the log-return over the business days of the year.\n",
    "* First we use the `pandas` method `.pct_change()` to compute the *return* per day based on percent change.\n",
    "* Next we use `numpy` to compute the log of the return.\n",
    "* Finally we use `pandas` method `.rolling_std()` to compute the volatility"
   ]
  },
  {
   "cell_type": "code",
   "execution_count": 29,
   "metadata": {},
   "outputs": [
    {
     "data": {
      "text/plain": [
       "Date\n",
       "2010-01-04         NaN\n",
       "2010-01-05   -0.004404\n",
       "2010-01-06   -0.025209\n",
       "2010-01-07   -0.023280\n",
       "2010-01-08    0.013331\n",
       "Name: Return, dtype: float64"
      ]
     },
     "execution_count": 29,
     "metadata": {},
     "output_type": "execute_result"
    }
   ],
   "source": [
    "# Compute the returns from daily percent change\n",
    "# Append a new column\n",
    "google['Return'] = google['Close'].pct_change()\n",
    "google['Return'].iloc[0:5]"
   ]
  },
  {
   "cell_type": "code",
   "execution_count": 30,
   "metadata": {},
   "outputs": [
    {
     "data": {
      "text/plain": [
       "Date\n",
       "2010-01-04         NaN\n",
       "2010-01-05   -0.004413\n",
       "2010-01-06   -0.025532\n",
       "2010-01-07   -0.023555\n",
       "2010-01-08    0.013243\n",
       "Name: LogReturn, dtype: float64"
      ]
     },
     "execution_count": 30,
     "metadata": {},
     "output_type": "execute_result"
    }
   ],
   "source": [
    "# Compute the log() of the return using numpy\n",
    "# Append another new column\n",
    "import numpy as np\n",
    "google['LogReturn'] = np.log(1+google['Return'])\n",
    "google['LogReturn'].iloc[0:5]"
   ]
  },
  {
   "cell_type": "code",
   "execution_count": 33,
   "metadata": {},
   "outputs": [
    {
     "data": {
      "text/plain": [
       "Date\n",
       "2010-12-27         NaN\n",
       "2010-12-28         NaN\n",
       "2010-12-29         NaN\n",
       "2010-12-30         NaN\n",
       "2010-12-31         NaN\n",
       "2011-01-03    0.278490\n",
       "2011-01-04    0.278480\n",
       "2011-01-05    0.277550\n",
       "2011-01-06    0.276632\n",
       "2011-01-07    0.276359\n",
       "Name: Volatility, dtype: float64"
      ]
     },
     "execution_count": 33,
     "metadata": {},
     "output_type": "execute_result"
    }
   ],
   "source": [
    "# Compute volatility as rolling standard deviation of the log() of the returns\n",
    "# Append yet another new column\n",
    "window_size = 252\n",
    "#Old Code: google['Volatility'] = pd.rolling_std(google['LogReturn'], window=window_size) * np.sqrt(window_size)\n",
    "google['Volatility'] = pd.Series(google['LogReturn']).rolling(window=window_size).std() * np.sqrt(window_size)\n",
    "google['Volatility'].iloc[window_size-5:window_size+5]"
   ]
  },
  {
   "cell_type": "markdown",
   "metadata": {},
   "source": [
    "## Data Visualization"
   ]
  },
  {
   "cell_type": "markdown",
   "metadata": {},
   "source": [
    "Finally, Pandas is coupled to Matplotlib:\n",
    "* Columns from a single DataFrame can be plotted using `DataFrame.plot()`.\n",
    "* Here we will plot the newly created columns of data, `LogReturn` and `Volatility`."
   ]
  },
  {
   "cell_type": "code",
   "execution_count": 34,
   "metadata": {},
   "outputs": [
    {
     "name": "stdout",
     "output_type": "stream",
     "text": [
      "<class 'pandas.core.frame.DataFrame'>\n",
      "DatetimeIndex: 1258 entries, 2010-01-04 to 2014-12-31\n",
      "Data columns (total 9 columns):\n",
      " #   Column      Non-Null Count  Dtype  \n",
      "---  ------      --------------  -----  \n",
      " 0   High        1258 non-null   float64\n",
      " 1   Low         1258 non-null   float64\n",
      " 2   Open        1258 non-null   float64\n",
      " 3   Close       1258 non-null   float64\n",
      " 4   Volume      1258 non-null   float64\n",
      " 5   Adj Close   1258 non-null   float64\n",
      " 6   Return      1257 non-null   float64\n",
      " 7   LogReturn   1257 non-null   float64\n",
      " 8   Volatility  1006 non-null   float64\n",
      "dtypes: float64(9)\n",
      "memory usage: 130.6 KB\n"
     ]
    }
   ],
   "source": [
    "google.info()"
   ]
  },
  {
   "cell_type": "code",
   "execution_count": 35,
   "metadata": {},
   "outputs": [
    {
     "data": {
      "text/plain": [
       "array([<matplotlib.axes._subplots.AxesSubplot object at 0x7f96d5bcc0d0>,\n",
       "       <matplotlib.axes._subplots.AxesSubplot object at 0x7f96d55f55b0>],\n",
       "      dtype=object)"
      ]
     },
     "execution_count": 35,
     "metadata": {},
     "output_type": "execute_result"
    },
    {
     "data": {
      "image/png": "[encoded data removed]",
      "text/plain": [
       "<Figure size 1080x432 with 2 Axes>"
      ]
     },
     "metadata": {
      "needs_background": "light"
     },
     "output_type": "display_data"
    }
   ],
   "source": [
    "google[['Close','Volatility']].plot(subplots=True, figsize=(15,6))"
   ]
  },
  {
   "cell_type": "markdown",
   "metadata": {},
   "source": [
    "## Pandas Data Structures: How we work with Data"
   ]
  },
  {
   "cell_type": "markdown",
   "metadata": {},
   "source": [
    "Pandas provides two primary data structures:\n",
    "* `Series` is built for 1-dimensional series data\n",
    "* `DataFrame` is built for 2-dimensional collections of tabular data\n",
    "\n",
    "These data structures differ and are related as follows:\n",
    "* **Series**: 1-dimensional array of **homogeneous** data\n",
    "* **DataFrame**: 2-dimensional table of **heterogeneous** data, composed of multiple **Series**\n",
    "\n",
    "Each of these also contains an integrated **`index`**:\n",
    "* **Series** objects include a second array called the **index** that can contain homogeneous values of any type like integers, strings or datetime objects. \n",
    "* **DataFrame** objects include a column **index**. The **index** objects allow for very sophisticated selection operations using square brackets (`[]`) along with some specialized selection functions.\n",
    "\n",
    "*side note: Pandas has another data structure called Panels which is not commonly used*"
   ]
  },
  {
   "cell_type": "markdown",
   "metadata": {},
   "source": [
    "## Set-up"
   ]
  },
  {
   "cell_type": "code",
   "execution_count": 37,
   "metadata": {},
   "outputs": [
    {
     "data": {
      "text/plain": [
       "'1.2.4'"
      ]
     },
     "execution_count": 37,
     "metadata": {},
     "output_type": "execute_result"
    }
   ],
   "source": [
    "# Numerical computing\n",
    "import numpy as np\n",
    "\n",
    "# Draw pictures!\n",
    "import matplotlib.pyplot as plt\n",
    "%matplotlib inline\n",
    "\n",
    "# Python people are weird!\n",
    "import pandas as pd\n",
    "\n",
    "# Set Jupyter notebook display options\n",
    "pd.options.display.max_rows = 8\n",
    "pd.options.display.max_columns = 8\n",
    "\n",
    "# Check version number\n",
    "pd.__version__"
   ]
  },
  {
   "cell_type": "markdown",
   "metadata": {},
   "source": [
    "# Pandas Series"
   ]
  },
  {
   "cell_type": "markdown",
   "metadata": {},
   "source": [
    "* Designed for 1-dimensional, homogeneous series data\n",
    "* Composed of an array of data and an special Index object\n",
    "* Access to data contents can be done by `position` index (0,1,2,...) or by `label` index ('a','b','c',...)\n",
    "* Index label type can be integers, strings, or datetime objects. \n",
    "* Operations like *retrieving*,  *joining*, and *aligning* data are made easy."
   ]
  },
  {
   "cell_type": "markdown",
   "metadata": {},
   "source": [
    "## Creating a Series"
   ]
  },
  {
   "cell_type": "code",
   "execution_count": 40,
   "metadata": {},
   "outputs": [
    {
     "name": "stdout",
     "output_type": "stream",
     "text": [
      "\n",
      "\n",
      "0          gamma Cep b\n",
      "1          HD 114762 b\n",
      "2       PSR B1257+12 B\n",
      "3       PSR B1257+12 A\n",
      "             ...      \n",
      "1638         WASP-89 b\n",
      "1639         HD 1666 b\n",
      "1640        HD 95127 b\n",
      "1641      Kepler-432 c\n",
      "Name: NAME, Length: 1642, dtype: object\n",
      "\n",
      "\n",
      "<class 'pandas.core.series.Series'>\n"
     ]
    }
   ],
   "source": [
    "# Example: Creating a Series from a data column from file\n",
    "\n",
    "file   = \"/Users/mshayganfar/springboard/strata_data-master/data/exoplanets.csv\"\n",
    "data   = pd.read_csv(file)\n",
    "series = data['NAME']\n",
    "\n",
    "print( \"\\n\" )\n",
    "print( series )\n",
    "\n",
    "print( \"\\n\" )\n",
    "print( type( series ) )"
   ]
  },
  {
   "cell_type": "code",
   "execution_count": 41,
   "metadata": {},
   "outputs": [
    {
     "data": {
      "text/plain": [
       "0     5\n",
       "1    10\n",
       "2    15\n",
       "3    20\n",
       "4    25\n",
       "dtype: int64"
      ]
     },
     "execution_count": 41,
     "metadata": {},
     "output_type": "execute_result"
    }
   ],
   "source": [
    "# Example: Creating a Series a list\n",
    "\n",
    "new_list = [5,10,15,20,25]\n",
    "pd.Series(new_list)"
   ]
  },
  {
   "cell_type": "code",
   "execution_count": 42,
   "metadata": {},
   "outputs": [
    {
     "data": {
      "text/plain": [
       "b    100.0\n",
       "a    200.0\n",
       "d    450.0\n",
       "c    700.0\n",
       "dtype: float64"
      ]
     },
     "execution_count": 42,
     "metadata": {},
     "output_type": "execute_result"
    }
   ],
   "source": [
    "# Example: Creating a Series from a dictionary... index will be sorted\n",
    "\n",
    "new_dictionary = {'b': 100, 'a': 200.0, 'd':450, 'c':700}\n",
    "pd.Series(new_dictionary)"
   ]
  },
  {
   "cell_type": "markdown",
   "metadata": {},
   "source": [
    "### With that, you now have enough information to know the Big, Big, Secret of Pandas:\n",
    "### (Almost) All the complexity in pandas (and it is actually, somewhat complex in parts) arises from the ability to index by *POSITION* (e.g. 0, 1, 2, ith location) and also index by *LABEL* ('a', 'b', 'c', etc.). "
   ]
  },
  {
   "cell_type": "code",
   "execution_count": 43,
   "metadata": {},
   "outputs": [
    {
     "data": {
      "text/plain": [
       "b    100\n",
       "a    200\n",
       "d    450\n",
       "c    700\n",
       "dtype: int64"
      ]
     },
     "execution_count": 43,
     "metadata": {},
     "output_type": "execute_result"
    }
   ],
   "source": [
    "# Example: Creating a Series from an ORDERED dictionary\n",
    "#          ... to preserver order of the indices.\n",
    "\n",
    "from collections import OrderedDict\n",
    "od = OrderedDict([('b', 100), ('a',200), ('d',450), ('c',700)])\n",
    "pd.Series(od)"
   ]
  },
  {
   "cell_type": "code",
   "execution_count": 44,
   "metadata": {},
   "outputs": [
    {
     "name": "stdout",
     "output_type": "stream",
     "text": [
      "\n",
      "\n",
      "[10. 20. 30. 40. 50.]\n",
      "<class 'numpy.ndarray'>\n",
      "\n",
      "\n",
      "0    10.0\n",
      "1    20.0\n",
      "2    30.0\n",
      "3    40.0\n",
      "4    50.0\n",
      "dtype: float64\n",
      "<class 'pandas.core.series.Series'>\n"
     ]
    }
   ],
   "source": [
    "# Example: Creating a Series from a NumPy array\n",
    "\n",
    "array1  = np.arange(1,6)*10.0\n",
    "series1 = pd.Series(array1)\n",
    "\n",
    "print( \"\\n\" )\n",
    "print( array1 )\n",
    "print( type(array1) )\n",
    "\n",
    "print( \"\\n\" )\n",
    "print( series1 )\n",
    "print( type(series1) )"
   ]
  },
  {
   "cell_type": "markdown",
   "metadata": {},
   "source": [
    "## Pandas Index"
   ]
  },
  {
   "cell_type": "markdown",
   "metadata": {},
   "source": [
    "The pandas Series data structure always has an `Index`"
   ]
  },
  {
   "cell_type": "code",
   "execution_count": 45,
   "metadata": {},
   "outputs": [
    {
     "data": {
      "text/plain": [
       "RangeIndex(start=0, stop=5, step=1)"
      ]
     },
     "execution_count": 45,
     "metadata": {},
     "output_type": "execute_result"
    }
   ],
   "source": [
    "# The default Index is just a sequence of integers:\n",
    "array1  = np.arange(1,6)*10.0\n",
    "series1 = pd.Series(array1)\n",
    "\n",
    "series1.index"
   ]
  },
  {
   "cell_type": "code",
   "execution_count": 46,
   "metadata": {},
   "outputs": [
    {
     "name": "stdout",
     "output_type": "stream",
     "text": [
      "10.0\n"
     ]
    }
   ],
   "source": [
    "# The Index is used for indexing\n",
    "\n",
    "print( series1.iloc[0] )  # \"Positional\" indexing"
   ]
  },
  {
   "cell_type": "code",
   "execution_count": 47,
   "metadata": {},
   "outputs": [],
   "source": [
    "# The Index can be set to a sequence of labels:\n",
    "\n",
    "index2 = ['a','b','c','d','a']\n",
    "series2 = pd.Series(np.arange(1,6)*10.0, index=index2)"
   ]
  },
  {
   "cell_type": "code",
   "execution_count": 48,
   "metadata": {},
   "outputs": [
    {
     "data": {
      "text/plain": [
       "20.0"
      ]
     },
     "execution_count": 48,
     "metadata": {},
     "output_type": "execute_result"
    }
   ],
   "source": [
    "# The Index labels are used for indexing\n",
    "\n",
    "series2.loc['b']  # \"label\" indexing"
   ]
  },
  {
   "cell_type": "code",
   "execution_count": 49,
   "metadata": {},
   "outputs": [
    {
     "data": {
      "text/plain": [
       "a    10.0\n",
       "a    50.0\n",
       "dtype: float64"
      ]
     },
     "execution_count": 49,
     "metadata": {},
     "output_type": "execute_result"
    }
   ],
   "source": [
    "# Indexing when the label is not unique?\n",
    "\n",
    "series2.loc['a']"
   ]
  },
  {
   "cell_type": "markdown",
   "metadata": {},
   "source": [
    "## Iterating over a Series"
   ]
  },
  {
   "cell_type": "code",
   "execution_count": 50,
   "metadata": {},
   "outputs": [
    {
     "name": "stdout",
     "output_type": "stream",
     "text": [
      "a 10.0\n",
      "b 20.0\n",
      "c 30.0\n",
      "d 40.0\n",
      "a 50.0\n"
     ]
    }
   ],
   "source": [
    "for key, value in series2.iteritems():\n",
    "    print(key, value)"
   ]
  },
  {
   "cell_type": "markdown",
   "metadata": {},
   "source": [
    "## Pandas Slicing"
   ]
  },
  {
   "cell_type": "code",
   "execution_count": 51,
   "metadata": {},
   "outputs": [
    {
     "name": "stdout",
     "output_type": "stream",
     "text": [
      "b    20.0\n",
      "dtype: float64\n",
      "\n",
      "\n",
      "b    20.0\n",
      "c    30.0\n",
      "dtype: float64\n"
     ]
    }
   ],
   "source": [
    "# Be careful when slicing with integers versus labels\n",
    "\n",
    "print( series2.iloc[1:2]     )  # Positional indexing is permitted with slicing\n",
    "print(\"\\n\")\n",
    "print( series2.loc['b':'c'] )  # Ranges of labels can be sliced (slicing here is *inclusive*)"
   ]
  },
  {
   "cell_type": "code",
   "execution_count": 52,
   "metadata": {},
   "outputs": [
    {
     "data": {
      "text/plain": [
       "a    50.0\n",
       "dtype: float64"
      ]
     },
     "execution_count": 52,
     "metadata": {},
     "output_type": "execute_result"
    }
   ],
   "source": [
    "# Example: slice from the end\n",
    "series2.iloc[-1:]"
   ]
  },
  {
   "cell_type": "code",
   "execution_count": 53,
   "metadata": {},
   "outputs": [
    {
     "data": {
      "text/plain": [
       "a    10.0\n",
       "b    20.0\n",
       "dtype: float64"
      ]
     },
     "execution_count": 53,
     "metadata": {},
     "output_type": "execute_result"
    }
   ],
   "source": [
    "# Example: slice from the beginning\n",
    "series2.iloc[:-3]"
   ]
  },
  {
   "cell_type": "code",
   "execution_count": 54,
   "metadata": {},
   "outputs": [
    {
     "data": {
      "text/plain": [
       "d    40.0\n",
       "b    20.0\n",
       "dtype: float64"
      ]
     },
     "execution_count": 54,
     "metadata": {},
     "output_type": "execute_result"
    }
   ],
   "source": [
    "# Example: slice with labels, but with integer step size\n",
    "series2.loc['d':'b':-2]"
   ]
  },
  {
   "cell_type": "markdown",
   "metadata": {},
   "source": [
    "## Series Arithmetic"
   ]
  },
  {
   "cell_type": "code",
   "execution_count": 55,
   "metadata": {},
   "outputs": [
    {
     "name": "stdout",
     "output_type": "stream",
     "text": [
      "0    10.0\n",
      "1    20.0\n",
      "2    30.0\n",
      "3    40.0\n",
      "4    50.0\n",
      "dtype: float64\n",
      "0     20.0\n",
      "1     40.0\n",
      "2     60.0\n",
      "3     80.0\n",
      "4    100.0\n",
      "dtype: float64\n",
      "0     60.0\n",
      "1    120.0\n",
      "2    180.0\n",
      "3    240.0\n",
      "4    300.0\n",
      "dtype: float64\n"
     ]
    }
   ],
   "source": [
    "# Arithmetic with Series is as with numpy arrays\n",
    "print(series1)\n",
    "\n",
    "series2 = series1 * 2 \n",
    "print(series2)\n",
    "\n",
    "series3 = series2 * 3\n",
    "print(series3)"
   ]
  },
  {
   "cell_type": "markdown",
   "metadata": {},
   "source": [
    "## Series with NumPy"
   ]
  },
  {
   "cell_type": "code",
   "execution_count": 56,
   "metadata": {},
   "outputs": [
    {
     "data": {
      "text/plain": [
       "0    -3.141593\n",
       "1    -3.078126\n",
       "2    -3.014660\n",
       "3    -2.951193\n",
       "        ...   \n",
       "96    2.951193\n",
       "97    3.014660\n",
       "98    3.078126\n",
       "99    3.141593\n",
       "Length: 100, dtype: float64"
      ]
     },
     "execution_count": 56,
     "metadata": {},
     "output_type": "execute_result"
    }
   ],
   "source": [
    "# numpy ufuncs can be applied elementwise to Series\n",
    "\n",
    "series_2pi = pd.Series( np.linspace(-1*np.pi, +1*np.pi, 100) )\n",
    "series_2pi"
   ]
  },
  {
   "cell_type": "code",
   "execution_count": 57,
   "metadata": {},
   "outputs": [
    {
     "name": "stdout",
     "output_type": "stream",
     "text": [
      "0    -1.224647e-16\n",
      "1    -6.342392e-02\n",
      "2    -1.265925e-01\n",
      "3    -1.892512e-01\n",
      "          ...     \n",
      "96    1.892512e-01\n",
      "97    1.265925e-01\n",
      "98    6.342392e-02\n",
      "99    1.224647e-16\n",
      "Length: 100, dtype: float64\n",
      "<class 'pandas.core.series.Series'>\n"
     ]
    }
   ],
   "source": [
    "# Even though pandas was built on numpy, numpy methods on Series return a Series\n",
    "\n",
    "series_sin = np.sin( series_2pi )\n",
    "print( series_sin )\n",
    "print( type( series_sin ) )"
   ]
  },
  {
   "cell_type": "markdown",
   "metadata": {},
   "source": [
    "## Series with Matplotlib"
   ]
  },
  {
   "cell_type": "code",
   "execution_count": 58,
   "metadata": {},
   "outputs": [
    {
     "data": {
      "text/plain": [
       "[<matplotlib.lines.Line2D at 0x7f96d32e3e80>]"
      ]
     },
     "execution_count": 58,
     "metadata": {},
     "output_type": "execute_result"
    },
    {
     "data": {
      "image/png": "[encoded data removed]",
      "text/plain": [
       "<Figure size 432x288 with 1 Axes>"
      ]
     },
     "metadata": {
      "needs_background": "light"
     },
     "output_type": "display_data"
    }
   ],
   "source": [
    "plt.plot(series_2pi, series_sin)"
   ]
  },
  {
   "cell_type": "markdown",
   "metadata": {},
   "source": [
    "## Series Operations"
   ]
  },
  {
   "cell_type": "code",
   "execution_count": 59,
   "metadata": {},
   "outputs": [
    {
     "name": "stdout",
     "output_type": "stream",
     "text": [
      "0    1\n",
      "1    2\n",
      "2    3\n",
      "3    4\n",
      "4    5\n",
      "dtype: int64\n",
      "0    10\n",
      "1    20\n",
      "2    30\n",
      "3    40\n",
      "4    50\n",
      "dtype: int64\n",
      "0    11\n",
      "1    22\n",
      "2    33\n",
      "3    44\n",
      "4    55\n",
      "dtype: int64\n"
     ]
    }
   ],
   "source": [
    "# You can add two series\n",
    "\n",
    "series1 = pd.Series([1,2,3,4,5])\n",
    "print(series1)\n",
    "\n",
    "series2 = pd.Series([10,20,30,40,50])\n",
    "print(series2)\n",
    "\n",
    "series3 = series1 + series2\n",
    "print(series3)"
   ]
  },
  {
   "cell_type": "code",
   "execution_count": 65,
   "metadata": {},
   "outputs": [
    {
     "name": "stdout",
     "output_type": "stream",
     "text": [
      "a     NaN\n",
      "b     NaN\n",
      "c    13.0\n",
      "d    24.0\n",
      "e    35.0\n",
      "f     NaN\n",
      "g     NaN\n",
      "dtype: float64\n"
     ]
    }
   ],
   "source": [
    "# Even better when you assign labels to your data!\n",
    "\n",
    "series1 = pd.Series([1,2,3,4,5],      index=['a','b','c','d','e'])\n",
    "series2 = pd.Series([10,20,30,40,50], index=['c','d','e','f','g'])\n",
    "\n",
    "print( series1 + series2 )\n",
    "\n",
    "# Pandas' default is outer join."
   ]
  },
  {
   "cell_type": "markdown",
   "metadata": {},
   "source": [
    "###  SQL users: what just happened here?"
   ]
  },
  {
   "cell_type": "code",
   "execution_count": 61,
   "metadata": {},
   "outputs": [
    {
     "data": {
      "text/plain": [
       "24.0"
      ]
     },
     "execution_count": 61,
     "metadata": {},
     "output_type": "execute_result"
    }
   ],
   "source": [
    "# So when you apply a method like mean(), the NaNs are handled intelligently...\n",
    "\n",
    "(series1 + series2).mean()"
   ]
  },
  {
   "cell_type": "code",
   "execution_count": 62,
   "metadata": {},
   "outputs": [
    {
     "name": "stdout",
     "output_type": "stream",
     "text": [
      "Pandas mean:  1.5\n",
      "Numpy mean:   nan\n"
     ]
    }
   ],
   "source": [
    "# Contrast how NumPy and Pandas handle NaN:\n",
    "\n",
    "print( \"Pandas mean: \", pd.Series( [1.0, 2.0, np.nan] ).mean() )\n",
    "print( \"Numpy mean:  \", np.array(  [1.0, 2.0, np.nan] ).mean() )"
   ]
  },
  {
   "cell_type": "markdown",
   "metadata": {},
   "source": [
    "# Pandas DataFrame"
   ]
  },
  {
   "cell_type": "markdown",
   "metadata": {},
   "source": [
    "What is a DataFrame?\n",
    "\n",
    "* 2-dimensional labled tabular data (think spreadsheet or SQL table) \n",
    "* **heterogeneous** data, composed of multiple **Series**\n",
    "* an **Index** or \"row label\" for selection operations\n",
    "\n",
    "DataFrame inputs:\n",
    "\n",
    "* python dict of 1D sequences (e.g. ndarrays, lists, dicts, or Series)\n",
    "* 2-D numpy.ndarray\n",
    "* pandas Series\n",
    "* another DataFrame\n",
    "\n",
    "DataFrame Operations:\n",
    "- Pandas DataFrame objects have column names:\n",
    "    - dictionary style: df['DATE']\n",
    "    - attribute style: df.DATE\n",
    "- DataFrame binary operations (+ - / *) defaults to outer join, on both columns as well as the index\n",
    "- NaN can be handled after join"
   ]
  },
  {
   "cell_type": "markdown",
   "metadata": {},
   "source": [
    "## Creating a DataFrame"
   ]
  },
  {
   "cell_type": "code",
   "execution_count": 63,
   "metadata": {},
   "outputs": [
    {
     "data": {
      "text/html": [
       "<div>\n",
       "<style scoped>\n",
       "    .dataframe tbody tr th:only-of-type {\n",
       "        vertical-align: middle;\n",
       "    }\n",
       "\n",
       "    .dataframe tbody tr th {\n",
       "        vertical-align: top;\n",
       "    }\n",
       "\n",
       "    .dataframe thead th {\n",
       "        text-align: right;\n",
       "    }\n",
       "</style>\n",
       "<table border=\"1\" class=\"dataframe\">\n",
       "  <thead>\n",
       "    <tr style=\"text-align: right;\">\n",
       "      <th></th>\n",
       "      <th>NAME</th>\n",
       "      <th>FIRSTREF</th>\n",
       "      <th>FIRSTURL</th>\n",
       "      <th>DATE</th>\n",
       "      <th>...</th>\n",
       "      <th>RA_STRING(h:m:s)</th>\n",
       "      <th>DEC_STRING(d:m:s)</th>\n",
       "      <th>STAR_MASS(msun)</th>\n",
       "      <th>STAR_RADIUS(rsun)</th>\n",
       "    </tr>\n",
       "  </thead>\n",
       "  <tbody>\n",
       "    <tr>\n",
       "      <th>0</th>\n",
       "      <td>gamma Cep b</td>\n",
       "      <td>Campbell 1988</td>\n",
       "      <td>http://adsabs.harvard.edu/abs/1988ApJ...331..902C</td>\n",
       "      <td>1988</td>\n",
       "      <td>...</td>\n",
       "      <td>+23:39:20.98</td>\n",
       "      <td>+77:37:55.08</td>\n",
       "      <td>1.260000</td>\n",
       "      <td>5.010000</td>\n",
       "    </tr>\n",
       "    <tr>\n",
       "      <th>1</th>\n",
       "      <td>HD 114762 b</td>\n",
       "      <td>Latham 1989</td>\n",
       "      <td>http://adsabs.harvard.edu/abs/1989Natur.339...38L</td>\n",
       "      <td>1989</td>\n",
       "      <td>...</td>\n",
       "      <td>+13:12:20.10</td>\n",
       "      <td>+17:31:01.66</td>\n",
       "      <td>0.894578</td>\n",
       "      <td>0.859205</td>\n",
       "    </tr>\n",
       "    <tr>\n",
       "      <th>2</th>\n",
       "      <td>PSR B1257+12 B</td>\n",
       "      <td>Wolszczan 1992</td>\n",
       "      <td>http://adsabs.harvard.edu//abs/1992Natur.355.....</td>\n",
       "      <td>1992</td>\n",
       "      <td>...</td>\n",
       "      <td>13:00:03.577</td>\n",
       "      <td>+12:40:56.4</td>\n",
       "      <td>NaN</td>\n",
       "      <td>NaN</td>\n",
       "    </tr>\n",
       "    <tr>\n",
       "      <th>3</th>\n",
       "      <td>PSR B1257+12 A</td>\n",
       "      <td>Wolszczan 1992</td>\n",
       "      <td>http://adsabs.harvard.edu//abs/1992Natur.355.....</td>\n",
       "      <td>1992</td>\n",
       "      <td>...</td>\n",
       "      <td>13:00:03.577</td>\n",
       "      <td>+12:40:56.4</td>\n",
       "      <td>NaN</td>\n",
       "      <td>NaN</td>\n",
       "    </tr>\n",
       "    <tr>\n",
       "      <th>...</th>\n",
       "      <td>...</td>\n",
       "      <td>...</td>\n",
       "      <td>...</td>\n",
       "      <td>...</td>\n",
       "      <td>...</td>\n",
       "      <td>...</td>\n",
       "      <td>...</td>\n",
       "      <td>...</td>\n",
       "      <td>...</td>\n",
       "    </tr>\n",
       "    <tr>\n",
       "      <th>1638</th>\n",
       "      <td>WASP-89 b</td>\n",
       "      <td>Hellier 2015</td>\n",
       "      <td>http://adsabs.harvard.edu/abs/2015AJ....150...18H</td>\n",
       "      <td>2015</td>\n",
       "      <td>...</td>\n",
       "      <td>20:55:35.98</td>\n",
       "      <td>-18:58:16.1</td>\n",
       "      <td>0.920000</td>\n",
       "      <td>0.880000</td>\n",
       "    </tr>\n",
       "    <tr>\n",
       "      <th>1639</th>\n",
       "      <td>HD 1666 b</td>\n",
       "      <td>Harakawa 2015</td>\n",
       "      <td>http://adsabs.harvard.edu/abs/2015ApJ...806....5H</td>\n",
       "      <td>2015</td>\n",
       "      <td>...</td>\n",
       "      <td>+00:20:52.34</td>\n",
       "      <td>-19:55:51.89</td>\n",
       "      <td>1.500000</td>\n",
       "      <td>1.930000</td>\n",
       "    </tr>\n",
       "    <tr>\n",
       "      <th>1640</th>\n",
       "      <td>HD 95127 b</td>\n",
       "      <td>Niedzielski 2015</td>\n",
       "      <td>http://adsabs.harvard.edu/abs/2015ApJ...803....1N</td>\n",
       "      <td>2015</td>\n",
       "      <td>...</td>\n",
       "      <td>+10:59:35.10</td>\n",
       "      <td>+43:48:52.17</td>\n",
       "      <td>1.200000</td>\n",
       "      <td>20.000000</td>\n",
       "    </tr>\n",
       "    <tr>\n",
       "      <th>1641</th>\n",
       "      <td>Kepler-432 c</td>\n",
       "      <td>Ciceri 2015</td>\n",
       "      <td>http://adsabs.harvard.edu/abs/2015A%26A...573L...</td>\n",
       "      <td>2015</td>\n",
       "      <td>...</td>\n",
       "      <td>19:33:07.729</td>\n",
       "      <td>+48:17:09.</td>\n",
       "      <td>1.320000</td>\n",
       "      <td>4.060000</td>\n",
       "    </tr>\n",
       "  </tbody>\n",
       "</table>\n",
       "<p>1642 rows × 17 columns</p>\n",
       "</div>"
      ],
      "text/plain": [
       "                NAME          FIRSTREF  \\\n",
       "0        gamma Cep b     Campbell 1988   \n",
       "1        HD 114762 b       Latham 1989   \n",
       "2     PSR B1257+12 B    Wolszczan 1992   \n",
       "3     PSR B1257+12 A    Wolszczan 1992   \n",
       "...              ...               ...   \n",
       "1638       WASP-89 b      Hellier 2015   \n",
       "1639       HD 1666 b     Harakawa 2015   \n",
       "1640      HD 95127 b  Niedzielski 2015   \n",
       "1641    Kepler-432 c       Ciceri 2015   \n",
       "\n",
       "                                               FIRSTURL  DATE  ...  \\\n",
       "0     http://adsabs.harvard.edu/abs/1988ApJ...331..902C  1988  ...   \n",
       "1     http://adsabs.harvard.edu/abs/1989Natur.339...38L  1989  ...   \n",
       "2     http://adsabs.harvard.edu//abs/1992Natur.355.....  1992  ...   \n",
       "3     http://adsabs.harvard.edu//abs/1992Natur.355.....  1992  ...   \n",
       "...                                                 ...   ...  ...   \n",
       "1638  http://adsabs.harvard.edu/abs/2015AJ....150...18H  2015  ...   \n",
       "1639  http://adsabs.harvard.edu/abs/2015ApJ...806....5H  2015  ...   \n",
       "1640  http://adsabs.harvard.edu/abs/2015ApJ...803....1N  2015  ...   \n",
       "1641  http://adsabs.harvard.edu/abs/2015A%26A...573L...  2015  ...   \n",
       "\n",
       "      RA_STRING(h:m:s)  DEC_STRING(d:m:s)  STAR_MASS(msun)  STAR_RADIUS(rsun)  \n",
       "0         +23:39:20.98       +77:37:55.08         1.260000           5.010000  \n",
       "1         +13:12:20.10       +17:31:01.66         0.894578           0.859205  \n",
       "2         13:00:03.577        +12:40:56.4              NaN                NaN  \n",
       "3         13:00:03.577        +12:40:56.4              NaN                NaN  \n",
       "...                ...                ...              ...                ...  \n",
       "1638       20:55:35.98        -18:58:16.1         0.920000           0.880000  \n",
       "1639      +00:20:52.34       -19:55:51.89         1.500000           1.930000  \n",
       "1640      +10:59:35.10       +43:48:52.17         1.200000          20.000000  \n",
       "1641      19:33:07.729         +48:17:09.         1.320000           4.060000  \n",
       "\n",
       "[1642 rows x 17 columns]"
      ]
     },
     "execution_count": 63,
     "metadata": {},
     "output_type": "execute_result"
    }
   ],
   "source": [
    "# Creating a DataFrame from a file read:\n",
    "\n",
    "file    = \"/Users/mshayganfar/springboard/strata_data-master/data/exoplanets.csv\"\n",
    "df_file = pd.read_csv(file)\n",
    "df_file"
   ]
  },
  {
   "cell_type": "code",
   "execution_count": 64,
   "metadata": {},
   "outputs": [
    {
     "data": {
      "text/html": [
       "<div>\n",
       "<style scoped>\n",
       "    .dataframe tbody tr th:only-of-type {\n",
       "        vertical-align: middle;\n",
       "    }\n",
       "\n",
       "    .dataframe tbody tr th {\n",
       "        vertical-align: top;\n",
       "    }\n",
       "\n",
       "    .dataframe thead th {\n",
       "        text-align: right;\n",
       "    }\n",
       "</style>\n",
       "<table border=\"1\" class=\"dataframe\">\n",
       "  <thead>\n",
       "    <tr style=\"text-align: right;\">\n",
       "      <th></th>\n",
       "      <th>a</th>\n",
       "      <th>b</th>\n",
       "      <th>c</th>\n",
       "      <th>d</th>\n",
       "    </tr>\n",
       "  </thead>\n",
       "  <tbody>\n",
       "    <tr>\n",
       "      <th>0</th>\n",
       "      <td>1</td>\n",
       "      <td>0.000000</td>\n",
       "      <td>0.0</td>\n",
       "      <td>a</td>\n",
       "    </tr>\n",
       "    <tr>\n",
       "      <th>1</th>\n",
       "      <td>2</td>\n",
       "      <td>0.349066</td>\n",
       "      <td>0.0</td>\n",
       "      <td>b</td>\n",
       "    </tr>\n",
       "    <tr>\n",
       "      <th>2</th>\n",
       "      <td>3</td>\n",
       "      <td>0.698132</td>\n",
       "      <td>0.0</td>\n",
       "      <td>c</td>\n",
       "    </tr>\n",
       "    <tr>\n",
       "      <th>3</th>\n",
       "      <td>4</td>\n",
       "      <td>1.047198</td>\n",
       "      <td>0.0</td>\n",
       "      <td>a</td>\n",
       "    </tr>\n",
       "    <tr>\n",
       "      <th>...</th>\n",
       "      <td>...</td>\n",
       "      <td>...</td>\n",
       "      <td>...</td>\n",
       "      <td>...</td>\n",
       "    </tr>\n",
       "    <tr>\n",
       "      <th>6</th>\n",
       "      <td>7</td>\n",
       "      <td>2.094395</td>\n",
       "      <td>0.0</td>\n",
       "      <td>a</td>\n",
       "    </tr>\n",
       "    <tr>\n",
       "      <th>7</th>\n",
       "      <td>8</td>\n",
       "      <td>2.443461</td>\n",
       "      <td>0.0</td>\n",
       "      <td>b</td>\n",
       "    </tr>\n",
       "    <tr>\n",
       "      <th>8</th>\n",
       "      <td>9</td>\n",
       "      <td>2.792527</td>\n",
       "      <td>0.0</td>\n",
       "      <td>c</td>\n",
       "    </tr>\n",
       "    <tr>\n",
       "      <th>9</th>\n",
       "      <td>10</td>\n",
       "      <td>3.141593</td>\n",
       "      <td>0.0</td>\n",
       "      <td>a</td>\n",
       "    </tr>\n",
       "  </tbody>\n",
       "</table>\n",
       "<p>10 rows × 4 columns</p>\n",
       "</div>"
      ],
      "text/plain": [
       "     a         b    c  d\n",
       "0    1  0.000000  0.0  a\n",
       "1    2  0.349066  0.0  b\n",
       "2    3  0.698132  0.0  c\n",
       "3    4  1.047198  0.0  a\n",
       "..  ..       ...  ... ..\n",
       "6    7  2.094395  0.0  a\n",
       "7    8  2.443461  0.0  b\n",
       "8    9  2.792527  0.0  c\n",
       "9   10  3.141593  0.0  a\n",
       "\n",
       "[10 rows x 4 columns]"
      ]
     },
     "execution_count": 64,
     "metadata": {},
     "output_type": "execute_result"
    }
   ],
   "source": [
    "# Creating a DataFrame from a dictionary\n",
    "\n",
    "dictionary = {'a':[1,2,3,4,5,6,7,8,9,10],\n",
    "              'b':np.linspace(0,np.pi,10),\n",
    "              'c':0.0,\n",
    "              'd':[\"a\",\"b\",\"c\",\"a\",\"b\",\"c\",\"a\",\"b\",\"c\",\"a\"]}\n",
    "\n",
    "df_dict = pd.DataFrame(dictionary)\n",
    "df_dict"
   ]
  },
  {
   "cell_type": "code",
   "execution_count": 66,
   "metadata": {},
   "outputs": [
    {
     "data": {
      "text/plain": [
       "Index(['a', 'b', 'c', 'd'], dtype='object')"
      ]
     },
     "execution_count": 66,
     "metadata": {},
     "output_type": "execute_result"
    }
   ],
   "source": [
    "# Inspect the DataFrame colums and index\n",
    "df_dict.columns"
   ]
  },
  {
   "cell_type": "code",
   "execution_count": 68,
   "metadata": {},
   "outputs": [
    {
     "data": {
      "text/plain": [
       "RangeIndex(start=0, stop=10, step=1)"
      ]
     },
     "execution_count": 68,
     "metadata": {},
     "output_type": "execute_result"
    }
   ],
   "source": [
    "df_dict.index"
   ]
  },
  {
   "cell_type": "markdown",
   "metadata": {},
   "source": [
    "Now use the Pandas `DataFrame.info()` method to see a bit more detail, including:\n",
    "* the name of each column\n",
    "* the Numpy dtype of each column\n",
    "* how many actual values are present\n",
    "* amount of memory used\n",
    "\n",
    "*side note: Pandas has excellent support for not-a-number (NaN) entries in DataFrames and Series.*"
   ]
  },
  {
   "cell_type": "code",
   "execution_count": 69,
   "metadata": {},
   "outputs": [
    {
     "name": "stdout",
     "output_type": "stream",
     "text": [
      "<class 'pandas.core.frame.DataFrame'>\n",
      "RangeIndex: 10 entries, 0 to 9\n",
      "Data columns (total 4 columns):\n",
      " #   Column  Non-Null Count  Dtype  \n",
      "---  ------  --------------  -----  \n",
      " 0   a       10 non-null     int64  \n",
      " 1   b       10 non-null     float64\n",
      " 2   c       10 non-null     float64\n",
      " 3   d       10 non-null     object \n",
      "dtypes: float64(2), int64(1), object(1)\n",
      "memory usage: 448.0+ bytes\n"
     ]
    }
   ],
   "source": [
    "df_dict.info()"
   ]
  },
  {
   "cell_type": "markdown",
   "metadata": {},
   "source": [
    "## DataFrame Indexing"
   ]
  },
  {
   "cell_type": "markdown",
   "metadata": {},
   "source": [
    "* Pandas DataFrames have a special Index, goes beyond integer indexing\n",
    "* Pandas DataFrames are indexed by column label, then (row) Index:"
   ]
  },
  {
   "cell_type": "code",
   "execution_count": 71,
   "metadata": {},
   "outputs": [
    {
     "data": {
      "text/html": [
       "<div>\n",
       "<style scoped>\n",
       "    .dataframe tbody tr th:only-of-type {\n",
       "        vertical-align: middle;\n",
       "    }\n",
       "\n",
       "    .dataframe tbody tr th {\n",
       "        vertical-align: top;\n",
       "    }\n",
       "\n",
       "    .dataframe thead th {\n",
       "        text-align: right;\n",
       "    }\n",
       "</style>\n",
       "<table border=\"1\" class=\"dataframe\">\n",
       "  <thead>\n",
       "    <tr style=\"text-align: right;\">\n",
       "      <th></th>\n",
       "      <th>Alice</th>\n",
       "      <th>Bob</th>\n",
       "      <th>Chuck</th>\n",
       "    </tr>\n",
       "  </thead>\n",
       "  <tbody>\n",
       "    <tr>\n",
       "      <th>Jan</th>\n",
       "      <td>1</td>\n",
       "      <td>0.358951</td>\n",
       "      <td>0.171053</td>\n",
       "    </tr>\n",
       "    <tr>\n",
       "      <th>Feb</th>\n",
       "      <td>2</td>\n",
       "      <td>0.238241</td>\n",
       "      <td>0.049841</td>\n",
       "    </tr>\n",
       "    <tr>\n",
       "      <th>Mar</th>\n",
       "      <td>3</td>\n",
       "      <td>0.234513</td>\n",
       "      <td>0.380765</td>\n",
       "    </tr>\n",
       "    <tr>\n",
       "      <th>Apr</th>\n",
       "      <td>4</td>\n",
       "      <td>0.804828</td>\n",
       "      <td>0.284848</td>\n",
       "    </tr>\n",
       "    <tr>\n",
       "      <th>May</th>\n",
       "      <td>5</td>\n",
       "      <td>0.856041</td>\n",
       "      <td>0.395187</td>\n",
       "    </tr>\n",
       "  </tbody>\n",
       "</table>\n",
       "</div>"
      ],
      "text/plain": [
       "     Alice       Bob     Chuck\n",
       "Jan      1  0.358951  0.171053\n",
       "Feb      2  0.238241  0.049841\n",
       "Mar      3  0.234513  0.380765\n",
       "Apr      4  0.804828  0.284848\n",
       "May      5  0.856041  0.395187"
      ]
     },
     "execution_count": 71,
     "metadata": {},
     "output_type": "execute_result"
    }
   ],
   "source": [
    "df_grades = pd.DataFrame({'Alice' : [1,2,3,4,5], \n",
    "                         'Bob':np.random.random(5), \n",
    "                         'Chuck' : np.random.random(5)},\n",
    "                         index=['Jan', 'Feb', 'Mar', 'Apr', 'May'])\n",
    "df_grades"
   ]
  },
  {
   "cell_type": "code",
   "execution_count": 72,
   "metadata": {},
   "outputs": [
    {
     "name": "stdout",
     "output_type": "stream",
     "text": [
      "Jan    1\n",
      "Feb    2\n",
      "Mar    3\n",
      "Apr    4\n",
      "May    5\n",
      "Name: Alice, dtype: int64\n",
      "<class 'pandas.core.series.Series'>\n"
     ]
    }
   ],
   "source": [
    "# Indexing is by column first (gives a Series)\n",
    "series_a = df_grades['Alice']\n",
    "\n",
    "print( series_a )\n",
    "print( type(series_a) )"
   ]
  },
  {
   "cell_type": "code",
   "execution_count": 73,
   "metadata": {},
   "outputs": [
    {
     "data": {
      "text/plain": [
       "2"
      ]
     },
     "execution_count": 73,
     "metadata": {},
     "output_type": "execute_result"
    }
   ],
   "source": [
    "# Indexing the column name, gives a Series, then 'positional' indexing\n",
    "df_grades['Alice'].iloc[1]"
   ]
  },
  {
   "cell_type": "code",
   "execution_count": 75,
   "metadata": {},
   "outputs": [
    {
     "data": {
      "text/plain": [
       "1"
      ]
     },
     "execution_count": 75,
     "metadata": {},
     "output_type": "execute_result"
    }
   ],
   "source": [
    "# Indexing the column name, gives a Series, then 'label' indexing\n",
    "df_grades.loc['Jan','Alice']"
   ]
  },
  {
   "cell_type": "markdown",
   "metadata": {},
   "source": [
    "## Iterating over a DataFrame"
   ]
  },
  {
   "cell_type": "markdown",
   "metadata": {},
   "source": [
    "As seen with Series, we can iterate over DataFrames"
   ]
  },
  {
   "cell_type": "code",
   "execution_count": 76,
   "metadata": {},
   "outputs": [
    {
     "name": "stdout",
     "output_type": "stream",
     "text": [
      "Key: Jan , Value: 1\n",
      "Key: Feb , Value: 2\n",
      "Key: Mar , Value: 3\n",
      "Key: Apr , Value: 4\n",
      "Key: May , Value: 5\n"
     ]
    }
   ],
   "source": [
    "for key, value in df_grades['Alice'].iteritems():\n",
    "    print('Key:', '%s' % key, ', Value:', '%s' % value)"
   ]
  },
  {
   "cell_type": "code",
   "execution_count": 77,
   "metadata": {},
   "outputs": [
    {
     "name": "stdout",
     "output_type": "stream",
     "text": [
      "Index: Jan , Row: 1.0\n",
      "Index: Feb , Row: 2.0\n",
      "Index: Mar , Row: 3.0\n",
      "Index: Apr , Row: 4.0\n",
      "Index: May , Row: 5.0\n"
     ]
    }
   ],
   "source": [
    "# DataFrames support iteration over the Index\n",
    "\n",
    "for index, row in df_grades.iterrows():\n",
    "    print('Index:', '%s' % index, ', Row:', '%s' % row['Alice'])"
   ]
  }
 ],
 "metadata": {
  "kernelspec": {
   "display_name": "Python 3",
   "language": "python",
   "name": "python3"
  },
  "language_info": {
   "codemirror_mode": {
    "name": "ipython",
    "version": 3
   },
   "file_extension": ".py",
   "mimetype": "text/x-python",
   "name": "python",
   "nbconvert_exporter": "python",
   "pygments_lexer": "ipython3",
   "version": "3.8.3"
  }
 },
 "nbformat": 4,
 "nbformat_minor": 4
}
